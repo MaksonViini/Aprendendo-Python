{
  "nbformat": 4,
  "nbformat_minor": 0,
  "metadata": {
    "colab": {
      "name": "HeartAttack.ipynb",
      "provenance": [],
      "collapsed_sections": []
    },
    "kernelspec": {
      "name": "python3",
      "display_name": "Python 3"
    }
  },
  "cells": [
    {
      "cell_type": "markdown",
      "metadata": {
        "id": "lHiaaAt1_D0Y",
        "colab_type": "text"
      },
      "source": [
        "# Heart Attack/ Ataque no coração\n",
        "Sugestão:\n",
        "1. Análise Descritiva das Variáveis.\n",
        "2. Análise de relação entre variáveis.\n",
        "3. Visualização das análises.\n",
        "4. Regressão logística.\n",
        "\n",
        "Objetivo:\n",
        "- Criar modelo de regressão logística para classificação de forma a maximizar o “Score F1” no conjunto de teste.\n",
        "\n",
        "Entrega:\n",
        "- Arquivo .csv com apenas uma coluna dos valores alvo estimados {0,1} . (com a mesma sequência do conj. que foi entregue\n",
        "\n"
      ]
    },
    {
      "cell_type": "code",
      "metadata": {
        "id": "x69JBXXvO5LH",
        "colab_type": "code",
        "colab": {}
      },
      "source": [
        "import pandas as pd # Importacao do pandas\n",
        "import numpy as np # Importacao do numpy\n",
        "import matplotlib.pyplot as plt # Importacao do matplotlib\n",
        "import seaborn as sns # Importacao do sns"
      ],
      "execution_count": 39,
      "outputs": []
    },
    {
      "cell_type": "code",
      "metadata": {
        "id": "dbd81nKCO86f",
        "colab_type": "code",
        "colab": {}
      },
      "source": [
        "df = pd.read_csv('https://raw.githubusercontent.com/MaksonViini/Learning-Python/master/Bootcamp%20Neuron/Datasets/heart_train.csv')"
      ],
      "execution_count": 37,
      "outputs": []
    },
    {
      "cell_type": "code",
      "metadata": {
        "id": "pxZqKwUDQjEk",
        "colab_type": "code",
        "colab": {
          "base_uri": "https://localhost:8080/",
          "height": 284
        },
        "outputId": "e7ff2ac4-d25e-46c8-c8da-86893016f45d"
      },
      "source": [
        "df.describe() # exibindo dados estatísticos do dataset de treino"
      ],
      "execution_count": 33,
      "outputs": [
        {
          "output_type": "execute_result",
          "data": {
            "text/html": [
              "<div>\n",
              "<style scoped>\n",
              "    .dataframe tbody tr th:only-of-type {\n",
              "        vertical-align: middle;\n",
              "    }\n",
              "\n",
              "    .dataframe tbody tr th {\n",
              "        vertical-align: top;\n",
              "    }\n",
              "\n",
              "    .dataframe thead th {\n",
              "        text-align: right;\n",
              "    }\n",
              "</style>\n",
              "<table border=\"1\" class=\"dataframe\">\n",
              "  <thead>\n",
              "    <tr style=\"text-align: right;\">\n",
              "      <th></th>\n",
              "      <th>Apparent Temperature (C)</th>\n",
              "      <th>Humidity</th>\n",
              "      <th>Wind Speed (km/h)</th>\n",
              "      <th>Visibility (km)</th>\n",
              "      <th>Pressure (millibars)</th>\n",
              "    </tr>\n",
              "  </thead>\n",
              "  <tbody>\n",
              "    <tr>\n",
              "      <th>count</th>\n",
              "      <td>538.000000</td>\n",
              "      <td>538.000000</td>\n",
              "      <td>538.000000</td>\n",
              "      <td>538.000000</td>\n",
              "      <td>538.000000</td>\n",
              "    </tr>\n",
              "    <tr>\n",
              "      <th>mean</th>\n",
              "      <td>9.979895</td>\n",
              "      <td>0.775985</td>\n",
              "      <td>10.562797</td>\n",
              "      <td>9.503339</td>\n",
              "      <td>994.043513</td>\n",
              "    </tr>\n",
              "    <tr>\n",
              "      <th>std</th>\n",
              "      <td>10.385096</td>\n",
              "      <td>0.174406</td>\n",
              "      <td>6.767862</td>\n",
              "      <td>3.923508</td>\n",
              "      <td>156.779130</td>\n",
              "    </tr>\n",
              "    <tr>\n",
              "      <th>min</th>\n",
              "      <td>-21.716667</td>\n",
              "      <td>0.280000</td>\n",
              "      <td>0.000000</td>\n",
              "      <td>0.000000</td>\n",
              "      <td>0.000000</td>\n",
              "    </tr>\n",
              "    <tr>\n",
              "      <th>25%</th>\n",
              "      <td>1.141667</td>\n",
              "      <td>0.660000</td>\n",
              "      <td>5.276775</td>\n",
              "      <td>7.691775</td>\n",
              "      <td>1012.630000</td>\n",
              "    </tr>\n",
              "    <tr>\n",
              "      <th>50%</th>\n",
              "      <td>11.250000</td>\n",
              "      <td>0.830000</td>\n",
              "      <td>9.764650</td>\n",
              "      <td>9.982000</td>\n",
              "      <td>1017.380000</td>\n",
              "    </tr>\n",
              "    <tr>\n",
              "      <th>75%</th>\n",
              "      <td>17.323611</td>\n",
              "      <td>0.920000</td>\n",
              "      <td>13.930525</td>\n",
              "      <td>11.270000</td>\n",
              "      <td>1023.170000</td>\n",
              "    </tr>\n",
              "    <tr>\n",
              "      <th>max</th>\n",
              "      <td>33.316667</td>\n",
              "      <td>1.000000</td>\n",
              "      <td>39.316200</td>\n",
              "      <td>16.100000</td>\n",
              "      <td>1041.590000</td>\n",
              "    </tr>\n",
              "  </tbody>\n",
              "</table>\n",
              "</div>"
            ],
            "text/plain": [
              "       Apparent Temperature (C)  ...  Pressure (millibars)\n",
              "count                538.000000  ...            538.000000\n",
              "mean                   9.979895  ...            994.043513\n",
              "std                   10.385096  ...            156.779130\n",
              "min                  -21.716667  ...              0.000000\n",
              "25%                    1.141667  ...           1012.630000\n",
              "50%                   11.250000  ...           1017.380000\n",
              "75%                   17.323611  ...           1023.170000\n",
              "max                   33.316667  ...           1041.590000\n",
              "\n",
              "[8 rows x 5 columns]"
            ]
          },
          "metadata": {
            "tags": []
          },
          "execution_count": 33
        }
      ]
    },
    {
      "cell_type": "code",
      "metadata": {
        "id": "d1lrwggqox3m",
        "colab_type": "code",
        "colab": {
          "base_uri": "https://localhost:8080/",
          "height": 34
        },
        "outputId": "6cf04d50-134a-4455-c126-c4351fb98c8a"
      },
      "source": [
        "df.shape"
      ],
      "execution_count": 28,
      "outputs": [
        {
          "output_type": "execute_result",
          "data": {
            "text/plain": [
              "(8247, 6)"
            ]
          },
          "metadata": {
            "tags": []
          },
          "execution_count": 28
        }
      ]
    },
    {
      "cell_type": "code",
      "metadata": {
        "id": "zjaMRTW7o02S",
        "colab_type": "code",
        "colab": {
          "base_uri": "https://localhost:8080/",
          "height": 134
        },
        "outputId": "24f70ac2-8062-44ea-e728-5462c7363ea3"
      },
      "source": [
        "df.isnull().sum()"
      ],
      "execution_count": 29,
      "outputs": [
        {
          "output_type": "execute_result",
          "data": {
            "text/plain": [
              "Temperature (C)             7249\n",
              "Apparent Temperature (C)    7249\n",
              "Humidity                    7249\n",
              "Wind Speed (km/h)           7249\n",
              "Visibility (km)             7249\n",
              "Pressure (millibars)        7249\n",
              "dtype: int64"
            ]
          },
          "metadata": {
            "tags": []
          },
          "execution_count": 29
        }
      ]
    },
    {
      "cell_type": "code",
      "metadata": {
        "id": "VEDTLkW-o4aI",
        "colab_type": "code",
        "colab": {
          "base_uri": "https://localhost:8080/",
          "height": 235
        },
        "outputId": "8a3eabbc-d94b-4d94-fe21-e7dc6f469c92"
      },
      "source": [
        "df.info()"
      ],
      "execution_count": 30,
      "outputs": [
        {
          "output_type": "stream",
          "text": [
            "<class 'pandas.core.frame.DataFrame'>\n",
            "RangeIndex: 8247 entries, 0 to 8246\n",
            "Data columns (total 6 columns):\n",
            " #   Column                    Non-Null Count  Dtype  \n",
            "---  ------                    --------------  -----  \n",
            " 0   Temperature (C)           998 non-null    float64\n",
            " 1   Apparent Temperature (C)  998 non-null    float64\n",
            " 2   Humidity                  998 non-null    float64\n",
            " 3   Wind Speed (km/h)         998 non-null    float64\n",
            " 4   Visibility (km)           998 non-null    float64\n",
            " 5   Pressure (millibars)      998 non-null    float64\n",
            "dtypes: float64(6)\n",
            "memory usage: 386.7 KB\n"
          ],
          "name": "stdout"
        }
      ]
    },
    {
      "cell_type": "code",
      "metadata": {
        "id": "zJhGhAOGovxT",
        "colab_type": "code",
        "colab": {
          "base_uri": "https://localhost:8080/",
          "height": 523
        },
        "outputId": "884d3575-ced7-4404-9fc2-098284d870a7"
      },
      "source": [
        "sns.relplot(x='age', y='thalach', col='sex', hue='trestbps', data=df) # Relacao idade, sexo com pressão arterial em repouso e frequência cardíaca máxima atingir"
      ],
      "execution_count": 40,
      "outputs": [
        {
          "output_type": "execute_result",
          "data": {
            "text/plain": [
              "<seaborn.axisgrid.FacetGrid at 0x7f840614b978>"
            ]
          },
          "metadata": {
            "tags": []
          },
          "execution_count": 40
        },
        {
          "output_type": "display_data",
          "data": {
            "image/png": "[encoded data removed]",
            "text/plain": [
              "<Figure size 1107x500 with 2 Axes>"
            ]
          },
          "metadata": {
            "tags": [],
            "needs_background": "light"
          }
        }
      ]
    },
    {
      "cell_type": "code",
      "metadata": {
        "id": "uF60njFL0f7j",
        "colab_type": "code",
        "colab": {}
      },
      "source": [
        "sns.catplot(x='sex', kind='count', data=df)"
      ],
      "execution_count": null,
      "outputs": []
    },
    {
      "cell_type": "code",
      "metadata": {
        "id": "rET4WL7709Rx",
        "colab_type": "code",
        "colab": {}
      },
      "source": [
        "plt.style.use(\"ggplot\")\n",
        "plt.scatter(df['age'], df['target'])"
      ],
      "execution_count": null,
      "outputs": []
    },
    {
      "cell_type": "code",
      "metadata": {
        "id": "PlgOgkjDnjCz",
        "colab_type": "code",
        "colab": {}
      },
      "source": [
        "sns.barplot(x='target', y='age', data=df) # Relacao de idade com casos"
      ],
      "execution_count": null,
      "outputs": []
    },
    {
      "cell_type": "code",
      "metadata": {
        "id": "Vpm8ajJv16-x",
        "colab_type": "code",
        "colab": {}
      },
      "source": [
        "sns.barplot(x='sex', y='age', hue='target', data=df) # Contagem dos casos de acordo com sexo e idade"
      ],
      "execution_count": null,
      "outputs": []
    },
    {
      "cell_type": "code",
      "metadata": {
        "id": "PkFouOX63eD1",
        "colab_type": "code",
        "colab": {}
      },
      "source": [
        "plt.style.use('ggplot')\n",
        "plt.rcParams['figure.figsize'] = (15, 10)\n",
        "sns.heatmap(df.corr(), annot=True, cmap=\"PiYG\") # Correlacao dos dados"
      ],
      "execution_count": null,
      "outputs": []
    },
    {
      "cell_type": "code",
      "metadata": {
        "id": "m1PB8wnb4Mp6",
        "colab_type": "code",
        "colab": {}
      },
      "source": [
        "sns.distplot(df['age']) # Distribuicao da idade"
      ],
      "execution_count": null,
      "outputs": []
    },
    {
      "cell_type": "code",
      "metadata": {
        "id": "S0mqcKPN4djQ",
        "colab_type": "code",
        "colab": {}
      },
      "source": [
        "size = df['sex'].value_counts()\n",
        "labels = 'Male', 'Female'\n",
        "plt.pie(size, labels=labels, autopct='%.2f%%') # Distribuicao pelo sexo"
      ],
      "execution_count": null,
      "outputs": []
    },
    {
      "cell_type": "code",
      "metadata": {
        "id": "aU16PO7e5Mwq",
        "colab_type": "code",
        "colab": {}
      },
      "source": [
        "sns.countplot(x='target', palette='pastel', data=df) # Contagem dos casos da coluna alvo"
      ],
      "execution_count": null,
      "outputs": []
    },
    {
      "cell_type": "code",
      "metadata": {
        "id": "sjICtj5X7C7h",
        "colab_type": "code",
        "colab": {}
      },
      "source": [
        "plt.style.use('ggplot')\n",
        "plt.rcParams['figure.figsize'] = (10, 7)\n",
        "sns.boxplot(x='target', y='trestbps', data=df) # Relacao dos dados target com pressão arterial em repouso"
      ],
      "execution_count": null,
      "outputs": []
    },
    {
      "cell_type": "code",
      "metadata": {
        "id": "pSefJfjG1346",
        "colab_type": "code",
        "colab": {}
      },
      "source": [
        "df.head()"
      ],
      "execution_count": null,
      "outputs": []
    },
    {
      "cell_type": "markdown",
      "metadata": {
        "id": "C_-c95Ka8BLL",
        "colab_type": "text"
      },
      "source": [
        "# **Treinando modelo de Regressão Logística**"
      ]
    },
    {
      "cell_type": "code",
      "metadata": {
        "id": "-DZQIUtr8T2c",
        "colab_type": "code",
        "colab": {}
      },
      "source": [
        "# Carregando as bibliotecas\n",
        "from sklearn.linear_model import LogisticRegression\n",
        "from sklearn.model_selection import train_test_split\n",
        "from sklearn.preprocessing import StandardScaler\n",
        "from sklearn.metrics import confusion_matrix, plot_confusion_matrix, classification_report, log_loss, confusion_matrix"
      ],
      "execution_count": null,
      "outputs": []
    },
    {
      "cell_type": "code",
      "metadata": {
        "id": "E_lpB5rp-Wjq",
        "colab_type": "code",
        "colab": {}
      },
      "source": [
        "#Verificando se os dados estão desbalanceados\n",
        "df[\"target\"].value_counts()"
      ],
      "execution_count": null,
      "outputs": []
    },
    {
      "cell_type": "code",
      "metadata": {
        "id": "ajX_XTPD_WuR",
        "colab_type": "code",
        "colab": {}
      },
      "source": [
        "# De acordo com o heatmap irei montar um dataset com as features que mais se relacionam com o target\n",
        "cols = [\"cp\",\"fbs\",\"restecg\",\"thalach\",\"slope\"]\n",
        "df_reglog = df[cols]\n",
        "df_reglog"
      ],
      "execution_count": null,
      "outputs": []
    },
    {
      "cell_type": "code",
      "metadata": {
        "id": "VAMMCHCZEPdR",
        "colab_type": "code",
        "colab": {}
      },
      "source": [
        "df_reglog.shape"
      ],
      "execution_count": null,
      "outputs": []
    },
    {
      "cell_type": "code",
      "metadata": {
        "id": "83T_HzgsE4_A",
        "colab_type": "code",
        "colab": {}
      },
      "source": [
        "# Definindo meus dados de feature e target\n",
        "X = df_reglog\n",
        "y = df['target']"
      ],
      "execution_count": null,
      "outputs": []
    },
    {
      "cell_type": "code",
      "metadata": {
        "id": "qZZhBBUxECoD",
        "colab_type": "code",
        "colab": {}
      },
      "source": [
        "# Dividindo meus dados entre treino e teste\n",
        "X_train, X_test, y_train, y_test = train_test_split(X, y, test_size=0.3, stratify=y, random_state=42)"
      ],
      "execution_count": null,
      "outputs": []
    },
    {
      "cell_type": "code",
      "metadata": {
        "id": "nMrgvI5LEkRd",
        "colab_type": "code",
        "colab": {}
      },
      "source": [
        "# Treinando com regressão logística\n",
        "logreg = LogisticRegression(penalty='none', solver='newton-cg').fit(X_train, y_train)"
      ],
      "execution_count": null,
      "outputs": []
    },
    {
      "cell_type": "code",
      "metadata": {
        "id": "kUb91BqoIsUH",
        "colab_type": "code",
        "colab": {}
      },
      "source": [
        "# Definindo escala no conjunto de treino\n",
        "scaler = StandardScaler()\n",
        "X_train=scaler.fit_transform(X_train)"
      ],
      "execution_count": null,
      "outputs": []
    },
    {
      "cell_type": "code",
      "metadata": {
        "id": "1Fk-AdMCF6Km",
        "colab_type": "code",
        "colab": {}
      },
      "source": [
        "# Imprimindo o coeficiente de interceptação\n",
        "print('Intercept: ' + str(logreg.intercept_[0]))"
      ],
      "execution_count": null,
      "outputs": []
    },
    {
      "cell_type": "code",
      "metadata": {
        "id": "R03Y0xMrG7aZ",
        "colab_type": "code",
        "colab": {}
      },
      "source": [
        "# Imprimindo o coeficiente de regressão\n",
        "logreg.coef_[0]"
      ],
      "execution_count": null,
      "outputs": []
    },
    {
      "cell_type": "code",
      "metadata": {
        "id": "tq8Ez-fOH1zN",
        "colab_type": "code",
        "colab": {}
      },
      "source": [
        "# Prevendo a probabilidade\n",
        "X_test=scaler.transform(X_test)\n",
        "\n",
        "y_probab = logreg.predict_proba(X_test)\n",
        "\n",
        "y_probab.shape"
      ],
      "execution_count": null,
      "outputs": []
    },
    {
      "cell_type": "code",
      "metadata": {
        "id": "_x3NaW2jHYqt",
        "colab_type": "code",
        "colab": {}
      },
      "source": [
        "# Analise de log_loss\n",
        "log_loss(y_test,y_probab)"
      ],
      "execution_count": null,
      "outputs": []
    },
    {
      "cell_type": "markdown",
      "metadata": {
        "id": "zseKdgLqKFSF",
        "colab_type": "text"
      },
      "source": [
        "o Log Loss ficou com um valor alto, pois deve se aproximar do valor 1"
      ]
    },
    {
      "cell_type": "markdown",
      "metadata": {
        "id": "UX3EjcS8Jnho",
        "colab_type": "text"
      },
      "source": [
        "## **Regularização dos dados**"
      ]
    },
    {
      "cell_type": "code",
      "metadata": {
        "id": "k2IlxqQ1JtcS",
        "colab_type": "code",
        "colab": {}
      },
      "source": [
        "X = df_reglog\n",
        "y = df['target']"
      ],
      "execution_count": null,
      "outputs": []
    },
    {
      "cell_type": "code",
      "metadata": {
        "id": "ve0S91B2J5N9",
        "colab_type": "code",
        "colab": {}
      },
      "source": [
        "# Dividindo novamente meus dados entre treino e teste\n",
        "X_train, X_test, y_train, y_test = train_test_split(X, y, test_size=0.3, stratify=y, random_state=42)"
      ],
      "execution_count": null,
      "outputs": []
    },
    {
      "cell_type": "code",
      "metadata": {
        "id": "6MM4L8UvKwn5",
        "colab_type": "code",
        "colab": {}
      },
      "source": [
        "# Importando novas bibliotecas\n",
        "from sklearn.pipeline import Pipeline\n",
        "from sklearn.model_selection import GridSearchCV"
      ],
      "execution_count": null,
      "outputs": []
    },
    {
      "cell_type": "code",
      "metadata": {
        "id": "7Wf8cegPKXp8",
        "colab_type": "code",
        "colab": {}
      },
      "source": [
        "# Escolhendo hiperparametro\n",
        "pipe = Pipeline([('scaler', StandardScaler()), \n",
        "                 ('logreg', LogisticRegression(penalty='l1',solver='liblinear'))])\n",
        "\n",
        "parameters = {'logreg__C': np.linspace(10**-5,10,100)}\n",
        " \n",
        "gcv=GridSearchCV(pipe, parameters, cv=3, scoring='neg_log_loss', n_jobs=-1)\n",
        "gcv.fit(X_train, y_train)\n",
        "\n",
        "#Vendo o melhor valor e o escore associado\n",
        "c=gcv.best_params_['logreg__C']\n",
        "\n",
        "c, gcv.best_score_"
      ],
      "execution_count": null,
      "outputs": []
    },
    {
      "cell_type": "code",
      "metadata": {
        "id": "H3VwWU8BLBjT",
        "colab_type": "code",
        "colab": {}
      },
      "source": [
        "# Treinando e gerando valores preditos\n",
        "pipe = Pipeline([('scaler', StandardScaler()), \n",
        "                 ('logreg', LogisticRegression(penalty='l1', C=c, solver='liblinear'))])\n",
        "pipe.fit(X_train, y_train)"
      ],
      "execution_count": null,
      "outputs": []
    },
    {
      "cell_type": "code",
      "metadata": {
        "id": "nkFKqQBmLmna",
        "colab_type": "code",
        "colab": {}
      },
      "source": [
        "pipe['logreg'].intercept_[0]"
      ],
      "execution_count": null,
      "outputs": []
    },
    {
      "cell_type": "code",
      "metadata": {
        "id": "spsdTFy3Ls7w",
        "colab_type": "code",
        "colab": {}
      },
      "source": [
        "pipe['logreg'].coef_[0]"
      ],
      "execution_count": null,
      "outputs": []
    },
    {
      "cell_type": "code",
      "metadata": {
        "id": "QVW8nR2nLxCV",
        "colab_type": "code",
        "colab": {}
      },
      "source": [
        "# Gerando valores preditos com os dados de teste\n",
        "y_probab = pipe.predict_proba(X_test)\n",
        "y_probab = y_probab[:,1]"
      ],
      "execution_count": null,
      "outputs": []
    },
    {
      "cell_type": "code",
      "metadata": {
        "id": "9CNLINLYMBEF",
        "colab_type": "code",
        "colab": {}
      },
      "source": [
        "# Valor do erro no teste\n",
        "log_loss(y_test,y_probab) # MARAVILHA !!!"
      ],
      "execution_count": null,
      "outputs": []
    },
    {
      "cell_type": "code",
      "metadata": {
        "id": "0JlRVMiymuJd",
        "colab_type": "code",
        "colab": {}
      },
      "source": [
        "# Classificação das probabilidades em 0 ou 1\n",
        "corte=.1\n",
        "\n",
        "y_pred=1*(y_probab > corte)"
      ],
      "execution_count": null,
      "outputs": []
    },
    {
      "cell_type": "code",
      "metadata": {
        "id": "yvJDLCEJm4WT",
        "colab_type": "code",
        "colab": {}
      },
      "source": [
        "y_pred"
      ],
      "execution_count": null,
      "outputs": []
    },
    {
      "cell_type": "markdown",
      "metadata": {
        "id": "bAyZX2PunEzx",
        "colab_type": "text"
      },
      "source": [
        "Gerando a matriz de confusão para avaliação do modelo"
      ]
    },
    {
      "cell_type": "code",
      "metadata": {
        "id": "uH-j16volxxm",
        "colab_type": "code",
        "colab": {}
      },
      "source": [
        "cf_matrix=confusion_matrix(y_test, y_pred)"
      ],
      "execution_count": null,
      "outputs": []
    },
    {
      "cell_type": "code",
      "metadata": {
        "id": "KDfxl0gGnOvW",
        "colab_type": "code",
        "colab": {}
      },
      "source": [
        "group_names = ['Verdadeiro Negativo (VN)','Falso Positivo (FP)','False Negativo (FN)','Verdadeiro Positivo (VP)']\n",
        "group_counts = ['{0:0.0f}'.format(value) for value in\n",
        "                cf_matrix.flatten()]\n",
        "group_percentages = ['{0:.2%}'.format(value) for value in\n",
        "                     cf_matrix.flatten()/np.sum(cf_matrix)]\n",
        "labels = [f'{v1}\\n{v2}\\n{v3}' for v1, v2, v3 in\n",
        "          zip(group_names,group_counts,group_percentages)]\n",
        "labels = np.asarray(labels).reshape(2,2)\n",
        "sns.heatmap(cf_matrix, annot=labels, fmt='', cmap='Greens')\n",
        "plt.xlabel(\"Predito\")\n",
        "plt.ylabel(\"Real\")\n",
        "plt.show()"
      ],
      "execution_count": null,
      "outputs": []
    },
    {
      "cell_type": "code",
      "metadata": {
        "id": "eHeEKenFnq3K",
        "colab_type": "code",
        "colab": {}
      },
      "source": [
        "# Gerando o report\n",
        "report=classification_report(y_test, y_pred)\n",
        "\n",
        "print(report)"
      ],
      "execution_count": null,
      "outputs": []
    },
    {
      "cell_type": "code",
      "metadata": {
        "id": "ylCLvkoXzqZ5",
        "colab_type": "code",
        "colab": {}
      },
      "source": [
        "y_pred"
      ],
      "execution_count": null,
      "outputs": []
    },
    {
      "cell_type": "markdown",
      "metadata": {
        "id": "HzRAqqeHQp_B",
        "colab_type": "text"
      },
      "source": [
        "Gerando exportação dos dados"
      ]
    },
    {
      "cell_type": "code",
      "metadata": {
        "id": "nWCcQRWuQpGo",
        "colab_type": "code",
        "colab": {}
      },
      "source": [
        "df_total_exp =pd.DataFrame(y_pred, columns=['Target']) "
      ],
      "execution_count": null,
      "outputs": []
    },
    {
      "cell_type": "code",
      "metadata": {
        "id": "l9cG9QQ8A3s_",
        "colab_type": "code",
        "colab": {}
      },
      "source": [
        "from google.colab import files\n",
        "df.to_csv('HeartAttack.csv') \n",
        "files.download('HeartAttack.csv')"
      ],
      "execution_count": null,
      "outputs": []
    }
  ]
}