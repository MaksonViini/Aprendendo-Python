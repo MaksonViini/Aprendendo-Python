{
  "nbformat": 4,
  "nbformat_minor": 0,
  "metadata": {
    "colab": {
      "name": "Python.ipynb",
      "provenance": [],
      "authorship_tag": "ABX9TyMubJToo36D4NPj1jsH8OSN",
      "include_colab_link": true
    },
    "kernelspec": {
      "name": "python3",
      "display_name": "Python 3"
    }
  },
  "cells": [
    {
      "cell_type": "markdown",
      "metadata": {
        "id": "view-in-github",
        "colab_type": "text"
      },
      "source": [
        "<a href=\"https://colab.research.google.com/github/MaksonViini/Learning-Python/blob/master/Python.ipynb\" target=\"_parent\"><img src=\"https://colab.research.google.com/assets/colab-badge.svg\" alt=\"Open In Colab\"/></a>"
      ]
    },
    {
      "cell_type": "markdown",
      "metadata": {
        "id": "sr7NqmjIORO-",
        "colab_type": "text"
      },
      "source": [
        "### **Numeros**"
      ]
    },
    {
      "cell_type": "code",
      "metadata": {
        "id": "q0smt_BCOHF-",
        "colab_type": "code",
        "colab": {
          "base_uri": "https://localhost:8080/",
          "height": 34
        },
        "outputId": "ab797138-ae30-4451-ebfc-89277d9c773e"
      },
      "source": [
        "# Convertendo de float para int\n",
        "x = 10.5\n",
        "x = int(x)\n",
        "print(type(x))"
      ],
      "execution_count": null,
      "outputs": [
        {
          "output_type": "stream",
          "text": [
            "<class 'int'>\n"
          ],
          "name": "stdout"
        }
      ]
    },
    {
      "cell_type": "code",
      "metadata": {
        "id": "2MQbu3cXOcHe",
        "colab_type": "code",
        "colab": {
          "base_uri": "https://localhost:8080/",
          "height": 67
        },
        "outputId": "029f0149-cfd6-4b66-fc2a-46eff5fefb00"
      },
      "source": [
        "# Gerando um numero aleatorio entre um intervalo\n",
        "from random import randint, randrange\n",
        "num = randrange(0, 20)\n",
        "print(num)\n",
        "num1 = randint(0, 20)\n",
        "print(num1)\n",
        "lista = [randrange(0, 20),\n",
        "         randrange(0, 20),\n",
        "         randrange(0, 20),\n",
        "         randrange(0, 20)]\n",
        "print(lista)"
      ],
      "execution_count": null,
      "outputs": [
        {
          "output_type": "stream",
          "text": [
            "3\n",
            "4\n",
            "[7, 4, 17, 19]\n"
          ],
          "name": "stdout"
        }
      ]
    },
    {
      "cell_type": "markdown",
      "metadata": {
        "id": "yrFwvlFr0_2l",
        "colab_type": "text"
      },
      "source": [
        "###**String**\n"
      ]
    },
    {
      "cell_type": "code",
      "metadata": {
        "id": "WRzTs_eZ1Feq",
        "colab_type": "code",
        "colab": {
          "base_uri": "https://localhost:8080/",
          "height": 34
        },
        "outputId": "fc10a2c8-c837-44f2-b240-40339a05446c"
      },
      "source": [
        "# Tipo\n",
        "type(\"casdsadsadasds\")"
      ],
      "execution_count": null,
      "outputs": [
        {
          "output_type": "execute_result",
          "data": {
            "text/plain": [
              "str"
            ]
          },
          "metadata": {
            "tags": []
          },
          "execution_count": 1
        }
      ]
    },
    {
      "cell_type": "code",
      "metadata": {
        "id": "kORLwXng1KiA",
        "colab_type": "code",
        "colab": {
          "base_uri": "https://localhost:8080/",
          "height": 35
        },
        "outputId": "ca0563ca-f8f4-4b7d-cd61-cd8e8c91faec"
      },
      "source": [
        "# obter pedacoes de string usando []\n",
        "\"Coisa\"[0]\n",
        "\"Isso\"[:2]"
      ],
      "execution_count": null,
      "outputs": [
        {
          "output_type": "execute_result",
          "data": {
            "application/vnd.google.colaboratory.intrinsic+json": {
              "type": "string"
            },
            "text/plain": [
              "'Is'"
            ]
          },
          "metadata": {
            "tags": []
          },
          "execution_count": 3
        }
      ]
    },
    {
      "cell_type": "code",
      "metadata": {
        "id": "ekhtl4Xz1aMq",
        "colab_type": "code",
        "colab": {
          "base_uri": "https://localhost:8080/",
          "height": 102
        },
        "outputId": "e42a7d4d-499a-4136-97fa-4eaae9184051"
      },
      "source": [
        "# Obtendo pedacos\n",
        "nome = \"    makson vinico\"\n",
        "print(nome.upper()) # Caixa alta\n",
        "print(nome.lower()) # Caixa baixa\n",
        "print(nome.split()) # Dividir as palavras apos delimitador\n",
        "print(nome.strip()) # Retirar os espacos no inicio e no fim\n",
        "\",\".join(\"abc\") # Inserindo virgula dentro das letras abc, saida igual a: a,b,c"
      ],
      "execution_count": null,
      "outputs": [
        {
          "output_type": "stream",
          "text": [
            "    MAKSON VINICO\n",
            "    makson vinico\n",
            "['makson', 'vinico']\n",
            "makson vinico\n"
          ],
          "name": "stdout"
        },
        {
          "output_type": "execute_result",
          "data": {
            "application/vnd.google.colaboratory.intrinsic+json": {
              "type": "string"
            },
            "text/plain": [
              "'a,b,c'"
            ]
          },
          "metadata": {
            "tags": []
          },
          "execution_count": 7
        }
      ]
    },
    {
      "cell_type": "code",
      "metadata": {
        "id": "48eOwKHqPzu1",
        "colab_type": "code",
        "colab": {
          "base_uri": "https://localhost:8080/",
          "height": 34
        },
        "outputId": "966f112e-1e9f-4a31-b9a6-576a58e4567f"
      },
      "source": [
        "# Tamanho da string\n",
        "coisa = \"Vamos verificar o tamanho com espacos\"\n",
        "print(len(coisa))"
      ],
      "execution_count": null,
      "outputs": [
        {
          "output_type": "stream",
          "text": [
            "37\n"
          ],
          "name": "stdout"
        }
      ]
    },
    {
      "cell_type": "code",
      "metadata": {
        "id": "GyZiQiKHQMwE",
        "colab_type": "code",
        "colab": {
          "base_uri": "https://localhost:8080/",
          "height": 34
        },
        "outputId": "dff88990-f5a8-452d-ce53-c30c30dbb0e2"
      },
      "source": [
        "# Substituicao\n",
        "print(coisa.replace(\"Vamos\", \"Going\"))"
      ],
      "execution_count": null,
      "outputs": [
        {
          "output_type": "stream",
          "text": [
            "Going verificar o tamanho com espacos\n"
          ],
          "name": "stdout"
        }
      ]
    },
    {
      "cell_type": "code",
      "metadata": {
        "id": "Nmu3HxwyRqMV",
        "colab_type": "code",
        "colab": {
          "base_uri": "https://localhost:8080/",
          "height": 50
        },
        "outputId": "3990e0ff-80ef-4ed7-f0e5-7edea5d33909"
      },
      "source": [
        "# Split em todos os espacos\n",
        "print(coisa.split(\" \"))\n",
        "print(len(coisa.split(\" \"))) #Contando a quantidade de espacos"
      ],
      "execution_count": null,
      "outputs": [
        {
          "output_type": "stream",
          "text": [
            "['Vamos', 'verificar', 'o', 'tamanho', 'com', 'espacos']\n",
            "6\n"
          ],
          "name": "stdout"
        }
      ]
    },
    {
      "cell_type": "code",
      "metadata": {
        "id": "Mx4GMIjBSRjj",
        "colab_type": "code",
        "colab": {
          "base_uri": "https://localhost:8080/",
          "height": 50
        },
        "outputId": "64e69678-08cc-4a6d-d02b-c3cb8f7a61da"
      },
      "source": [
        "# Verificar se uma palavra aparece em uma frase\n",
        "frase = \"Aprendendo Python\"\n",
        "print(\"Python\" in frase) # Verifica se Pytohn esta na frase\n",
        "print(\"Python\" not in frase) # Verifica se Python nao esta na frase"
      ],
      "execution_count": null,
      "outputs": [
        {
          "output_type": "stream",
          "text": [
            "True\n",
            "False\n"
          ],
          "name": "stdout"
        }
      ]
    },
    {
      "cell_type": "code",
      "metadata": {
        "id": "aLgy6eBqXhWq",
        "colab_type": "code",
        "colab": {
          "base_uri": "https://localhost:8080/",
          "height": 34
        },
        "outputId": "62c0f429-e4a5-439a-ac38-93d426937306"
      },
      "source": [
        "# Concatenando variaveis / strings\n",
        "print(\"ISSO\" , \"aI\")"
      ],
      "execution_count": null,
      "outputs": [
        {
          "output_type": "stream",
          "text": [
            "ISSO aI\n"
          ],
          "name": "stdout"
        }
      ]
    },
    {
      "cell_type": "markdown",
      "metadata": {
        "id": "XWTdKDgUYeY0",
        "colab_type": "text"
      },
      "source": [
        "### **Tipo Boolean**\n"
      ]
    },
    {
      "cell_type": "code",
      "metadata": {
        "id": "bJw6lXkMYjYe",
        "colab_type": "code",
        "colab": {
          "base_uri": "https://localhost:8080/",
          "height": 34
        },
        "outputId": "fc47e2ed-e0ee-483c-fd2c-454f4b58fc15"
      },
      "source": [
        "conteudo = False\n",
        "print(type(conteudo)) # Retorna o tipo bool"
      ],
      "execution_count": null,
      "outputs": [
        {
          "output_type": "stream",
          "text": [
            "<class 'bool'>\n"
          ],
          "name": "stdout"
        }
      ]
    },
    {
      "cell_type": "code",
      "metadata": {
        "id": "FR0rZNMQYtF2",
        "colab_type": "code",
        "colab": {
          "base_uri": "https://localhost:8080/",
          "height": 34
        },
        "outputId": "25534f8d-4722-4f70-e3b4-eb8038779400"
      },
      "source": [
        "print(bool(\"dsdsdskdks\")) # Verdadeiro pois tem conteudo dentro"
      ],
      "execution_count": null,
      "outputs": [
        {
          "output_type": "stream",
          "text": [
            "True\n"
          ],
          "name": "stdout"
        }
      ]
    },
    {
      "cell_type": "markdown",
      "metadata": {
        "id": "hqdmVW6tiP2Z",
        "colab_type": "text"
      },
      "source": [
        "###**Lista**"
      ]
    },
    {
      "cell_type": "code",
      "metadata": {
        "id": "iFSIDGakiT8N",
        "colab_type": "code",
        "colab": {
          "base_uri": "https://localhost:8080/",
          "height": 50
        },
        "outputId": "584512c5-6e55-4393-cd15-e99bec1c9da6"
      },
      "source": [
        "numeros = [1, 29, 43, 4, 15, 6]\n",
        "print(sorted(numeros)) # Organiza em ordem\n",
        "numeros.append(\"a\") # Adicionando um novo elemento a lista\n",
        "print(numeros)"
      ],
      "execution_count": null,
      "outputs": [
        {
          "output_type": "stream",
          "text": [
            "[1, 4, 6, 15, 29, 43]\n",
            "[1, 29, 43, 4, 15, 6, 'a']\n"
          ],
          "name": "stdout"
        }
      ]
    },
    {
      "cell_type": "code",
      "metadata": {
        "id": "kzBcmI8sjFG_",
        "colab_type": "code",
        "colab": {
          "base_uri": "https://localhost:8080/",
          "height": 50
        },
        "outputId": "950a5d2a-6236-4594-a839-926f6187decf"
      },
      "source": [
        "carros = [\"Fusion\", \"Corola\", \"Gol\"]\n",
        "carros.remove(\"Gol\") # Metodo para remover um elemento\n",
        "print(carros)\n",
        "carros.reverse() # Inverte os elementos da lista\n",
        "print(carros)"
      ],
      "execution_count": null,
      "outputs": [
        {
          "output_type": "stream",
          "text": [
            "['Fusion', 'Corola']\n",
            "['Corola', 'Fusion']\n"
          ],
          "name": "stdout"
        }
      ]
    },
    {
      "cell_type": "code",
      "metadata": {
        "id": "gmgr0gVFj37H",
        "colab_type": "code",
        "colab": {
          "base_uri": "https://localhost:8080/",
          "height": 50
        },
        "outputId": "2e1c731f-a947-4266-b51d-96d4b348ceef"
      },
      "source": [
        "carros = [\"Fusion\", \"Corola\", \"Gol\"]\n",
        "del carros[2] #Remove o carro do indice 2\n",
        "print(carros)\n",
        "carros.clear() # Remove todos os elementos da lista\n",
        "print(carros)"
      ],
      "execution_count": null,
      "outputs": [
        {
          "output_type": "stream",
          "text": [
            "['Fusion', 'Corola']\n",
            "[]\n"
          ],
          "name": "stdout"
        }
      ]
    },
    {
      "cell_type": "code",
      "metadata": {
        "id": "TIY-aVzAlFas",
        "colab_type": "code",
        "colab": {
          "base_uri": "https://localhost:8080/",
          "height": 50
        },
        "outputId": "8d583d11-4e09-4c5e-929c-26e27322f8dc"
      },
      "source": [
        "carros = [\"Fusion\", \"Corola\", \"Gol\"]\n",
        "carros2 = []\n",
        "carros2 = list(carros) # Copiando toda uma lista para outra\n",
        "print(carros)\n",
        "print(carros2)"
      ],
      "execution_count": null,
      "outputs": [
        {
          "output_type": "stream",
          "text": [
            "['Fusion', 'Corola', 'Gol']\n",
            "['Fusion', 'Corola', 'Gol']\n"
          ],
          "name": "stdout"
        }
      ]
    },
    {
      "cell_type": "code",
      "metadata": {
        "id": "EZayK80-luub",
        "colab_type": "code",
        "colab": {
          "base_uri": "https://localhost:8080/",
          "height": 50
        },
        "outputId": "ffa36249-9972-49ec-c35d-515288823599"
      },
      "source": [
        "carros = [\"Fusion\", \"Corola\", \"Gol\"]\n",
        "carros2 = [\"Celta\", \"Uno\"]\n",
        "carros3 = carros + carros2 # Concatenar uma lista\n",
        "print(carros3)\n",
        "print(sorted(carros3)) # Ordenando a lista"
      ],
      "execution_count": null,
      "outputs": [
        {
          "output_type": "stream",
          "text": [
            "['Fusion', 'Corola', 'Gol', 'Celta', 'Uno']\n",
            "['Celta', 'Corola', 'Fusion', 'Gol', 'Uno']\n"
          ],
          "name": "stdout"
        }
      ]
    },
    {
      "cell_type": "markdown",
      "metadata": {
        "id": "z6HJVSxZmv77",
        "colab_type": "text"
      },
      "source": [
        "###**Condicionais**"
      ]
    },
    {
      "cell_type": "code",
      "metadata": {
        "id": "wnQk9KQXm4k2",
        "colab_type": "code",
        "colab": {
          "base_uri": "https://localhost:8080/",
          "height": 34
        },
        "outputId": "77164b4f-1356-4d78-b8ae-6ee4b97e7bb2"
      },
      "source": [
        "if 10 > 5: # Condicional 'SE'\n",
        "  print(f\"{10} e maior que {5} \") # Se 10 e maior que 5, entra aqui\n",
        "else: # Se nao\n",
        "  print(f\"{10} e menor que {5} \") # Entra aqui"
      ],
      "execution_count": null,
      "outputs": [
        {
          "output_type": "stream",
          "text": [
            "10 e maior que 5 \n"
          ],
          "name": "stdout"
        }
      ]
    },
    {
      "cell_type": "code",
      "metadata": {
        "id": "3CzpSH4wp6oZ",
        "colab_type": "code",
        "colab": {
          "base_uri": "https://localhost:8080/",
          "height": 34
        },
        "outputId": "c6d7ad82-d3d4-4024-e80b-87e58d538bae"
      },
      "source": [
        "num = 10\n",
        "if num % 2 == 0: # Verifica se o num e PAR, se nao, ele e IMPAR\n",
        "  print(f\"{num} e PAR \")\n",
        "else:\n",
        "  print(f\"{num} e IMPAR \")"
      ],
      "execution_count": null,
      "outputs": [
        {
          "output_type": "stream",
          "text": [
            "10 e PAR \n"
          ],
          "name": "stdout"
        }
      ]
    },
    {
      "cell_type": "code",
      "metadata": {
        "id": "p1IikLqaqQEJ",
        "colab_type": "code",
        "colab": {
          "base_uri": "https://localhost:8080/",
          "height": 34
        },
        "outputId": "91befc51-4d6e-4807-f178-980372632524"
      },
      "source": [
        "num = [] # Declara uma lista\n",
        "if 10 > 11: # Como 10 nao e maior que 11, nao efetua a impressao\n",
        "  print(num)\n",
        "else: # Se nao\n",
        "  num.append(10) # Adiciona 10 a lista vazia\n",
        "print(num) # Imprime a lista com o numero 10"
      ],
      "execution_count": null,
      "outputs": [
        {
          "output_type": "stream",
          "text": [
            "[10]\n"
          ],
          "name": "stdout"
        }
      ]
    },
    {
      "cell_type": "code",
      "metadata": {
        "id": "p5vGHcXqq_vm",
        "colab_type": "code",
        "colab": {
          "base_uri": "https://localhost:8080/",
          "height": 34
        },
        "outputId": "1f74684e-d3fe-408e-92b8-59f27223a71e"
      },
      "source": [
        "# CALCULADORA BASICA\n",
        "num = 10\n",
        "num2 = 2\n",
        "op = '/'\n",
        "if op == '*': # Verifica se op e igual a *, para multiplicacao\n",
        "  print(num * num2)\n",
        "elif op == '+': # Funciona como um else if e verifica se op e igual a +, para soma\n",
        "  print(num + num2)\n",
        "elif op == '-': #Verifica se op e igual a -, para subtracao\n",
        "  print(num - num2)\n",
        "elif op == '/': # Verifica se op e igual a /, para divisao\n",
        "  print(num / num2)"
      ],
      "execution_count": null,
      "outputs": [
        {
          "output_type": "stream",
          "text": [
            "5.0\n"
          ],
          "name": "stdout"
        }
      ]
    },
    {
      "cell_type": "markdown",
      "metadata": {
        "id": "rh9XFNik6vRK",
        "colab_type": "text"
      },
      "source": [
        "###**Tuplas**\n"
      ]
    },
    {
      "cell_type": "code",
      "metadata": {
        "id": "QTHNWryb62GH",
        "colab_type": "code",
        "colab": {}
      },
      "source": [
        "# contruindo uma tupla\n"
      ],
      "execution_count": null,
      "outputs": []
    }
  ]
}