{
  "nbformat": 4,
  "nbformat_minor": 0,
  "metadata": {
    "colab": {
      "name": "Python.ipynb",
      "provenance": [],
      "authorship_tag": "ABX9TyO1OsOkksMPTrqkNTBj0h72",
      "include_colab_link": true
    },
    "kernelspec": {
      "name": "python3",
      "display_name": "Python 3"
    }
  },
  "cells": [
    {
      "cell_type": "markdown",
      "metadata": {
        "id": "view-in-github",
        "colab_type": "text"
      },
      "source": [
        "<a href=\"https://colab.research.google.com/github/MaksonViini/Learning-Python/blob/master/Python.ipynb\" target=\"_parent\"><img src=\"https://colab.research.google.com/assets/colab-badge.svg\" alt=\"Open In Colab\"/></a>"
      ]
    },
    {
      "cell_type": "markdown",
      "metadata": {
        "id": "sr7NqmjIORO-",
        "colab_type": "text"
      },
      "source": [
        "### **Numeros**"
      ]
    },
    {
      "cell_type": "code",
      "metadata": {
        "id": "q0smt_BCOHF-",
        "colab_type": "code",
        "colab": {
          "base_uri": "https://localhost:8080/",
          "height": 34
        },
        "outputId": "ab797138-ae30-4451-ebfc-89277d9c773e"
      },
      "source": [
        "# Convertendo de float para int\n",
        "x = 10.5\n",
        "x = int(x)\n",
        "print(type(x))"
      ],
      "execution_count": 13,
      "outputs": [
        {
          "output_type": "stream",
          "text": [
            "<class 'int'>\n"
          ],
          "name": "stdout"
        }
      ]
    },
    {
      "cell_type": "code",
      "metadata": {
        "id": "2MQbu3cXOcHe",
        "colab_type": "code",
        "colab": {
          "base_uri": "https://localhost:8080/",
          "height": 67
        },
        "outputId": "029f0149-cfd6-4b66-fc2a-46eff5fefb00"
      },
      "source": [
        "# Gerando um numero aleatorio entre um intervalo\n",
        "from random import randint, randrange\n",
        "num = randrange(0, 20)\n",
        "print(num)\n",
        "num1 = randint(0, 20)\n",
        "print(num1)\n",
        "lista = [randrange(0, 20),\n",
        "         randrange(0, 20),\n",
        "         randrange(0, 20),\n",
        "         randrange(0, 20)]\n",
        "print(lista)"
      ],
      "execution_count": 30,
      "outputs": [
        {
          "output_type": "stream",
          "text": [
            "3\n",
            "4\n",
            "[7, 4, 17, 19]\n"
          ],
          "name": "stdout"
        }
      ]
    },
    {
      "cell_type": "markdown",
      "metadata": {
        "id": "yrFwvlFr0_2l",
        "colab_type": "text"
      },
      "source": [
        "###**String**\n"
      ]
    },
    {
      "cell_type": "code",
      "metadata": {
        "id": "WRzTs_eZ1Feq",
        "colab_type": "code",
        "colab": {
          "base_uri": "https://localhost:8080/",
          "height": 34
        },
        "outputId": "fc10a2c8-c837-44f2-b240-40339a05446c"
      },
      "source": [
        "# Tipo\n",
        "type(\"casdsadsadasds\")"
      ],
      "execution_count": null,
      "outputs": [
        {
          "output_type": "execute_result",
          "data": {
            "text/plain": [
              "str"
            ]
          },
          "metadata": {
            "tags": []
          },
          "execution_count": 1
        }
      ]
    },
    {
      "cell_type": "code",
      "metadata": {
        "id": "kORLwXng1KiA",
        "colab_type": "code",
        "colab": {
          "base_uri": "https://localhost:8080/",
          "height": 35
        },
        "outputId": "ca0563ca-f8f4-4b7d-cd61-cd8e8c91faec"
      },
      "source": [
        "# obter pedacoes de string usando []\n",
        "\"Coisa\"[0]\n",
        "\"Isso\"[:2]"
      ],
      "execution_count": null,
      "outputs": [
        {
          "output_type": "execute_result",
          "data": {
            "application/vnd.google.colaboratory.intrinsic+json": {
              "type": "string"
            },
            "text/plain": [
              "'Is'"
            ]
          },
          "metadata": {
            "tags": []
          },
          "execution_count": 3
        }
      ]
    },
    {
      "cell_type": "code",
      "metadata": {
        "id": "ekhtl4Xz1aMq",
        "colab_type": "code",
        "colab": {
          "base_uri": "https://localhost:8080/",
          "height": 102
        },
        "outputId": "e42a7d4d-499a-4136-97fa-4eaae9184051"
      },
      "source": [
        "# Obtendo pedacos\n",
        "nome = \"    makson vinico\"\n",
        "print(nome.upper()) # Caixa alta\n",
        "print(nome.lower()) # Caixa baixa\n",
        "print(nome.split()) # Dividir as palavras apos delimitador\n",
        "print(nome.strip()) # Retirar os espacos no inicio e no fim\n",
        "\",\".join(\"abc\") # Inserindo virgula dentro das letras abc, saida igual a: a,b,c"
      ],
      "execution_count": null,
      "outputs": [
        {
          "output_type": "stream",
          "text": [
            "    MAKSON VINICO\n",
            "    makson vinico\n",
            "['makson', 'vinico']\n",
            "makson vinico\n"
          ],
          "name": "stdout"
        },
        {
          "output_type": "execute_result",
          "data": {
            "application/vnd.google.colaboratory.intrinsic+json": {
              "type": "string"
            },
            "text/plain": [
              "'a,b,c'"
            ]
          },
          "metadata": {
            "tags": []
          },
          "execution_count": 7
        }
      ]
    },
    {
      "cell_type": "code",
      "metadata": {
        "id": "48eOwKHqPzu1",
        "colab_type": "code",
        "colab": {
          "base_uri": "https://localhost:8080/",
          "height": 34
        },
        "outputId": "966f112e-1e9f-4a31-b9a6-576a58e4567f"
      },
      "source": [
        "# Tamanho da string\n",
        "coisa = \"Vamos verificar o tamanho com espacos\"\n",
        "print(len(coisa))"
      ],
      "execution_count": 31,
      "outputs": [
        {
          "output_type": "stream",
          "text": [
            "37\n"
          ],
          "name": "stdout"
        }
      ]
    },
    {
      "cell_type": "code",
      "metadata": {
        "id": "GyZiQiKHQMwE",
        "colab_type": "code",
        "colab": {
          "base_uri": "https://localhost:8080/",
          "height": 34
        },
        "outputId": "ac789dc8-9851-4743-a151-6bbdbb78ff84"
      },
      "source": [
        "# Substituicao\n",
        "print(coisa.replace(\"Vamos\", \"Going\"))"
      ],
      "execution_count": 33,
      "outputs": [
        {
          "output_type": "stream",
          "text": [
            "Going verificar o tamanho com espacos\n"
          ],
          "name": "stdout"
        }
      ]
    },
    {
      "cell_type": "code",
      "metadata": {
        "id": "Nmu3HxwyRqMV",
        "colab_type": "code",
        "colab": {
          "base_uri": "https://localhost:8080/",
          "height": 50
        },
        "outputId": "3990e0ff-80ef-4ed7-f0e5-7edea5d33909"
      },
      "source": [
        "# Split em todos os espacos\n",
        "print(coisa.split(\" \"))\n",
        "print(len(coisa.split(\" \"))) #Contando a quantidade de espacos"
      ],
      "execution_count": 43,
      "outputs": [
        {
          "output_type": "stream",
          "text": [
            "['Vamos', 'verificar', 'o', 'tamanho', 'com', 'espacos']\n",
            "6\n"
          ],
          "name": "stdout"
        }
      ]
    },
    {
      "cell_type": "code",
      "metadata": {
        "id": "Mx4GMIjBSRjj",
        "colab_type": "code",
        "colab": {}
      },
      "source": [
        ""
      ],
      "execution_count": null,
      "outputs": []
    },
    {
      "cell_type": "markdown",
      "metadata": {
        "id": "rh9XFNik6vRK",
        "colab_type": "text"
      },
      "source": [
        "###**Tuplas**\n"
      ]
    },
    {
      "cell_type": "code",
      "metadata": {
        "id": "QTHNWryb62GH",
        "colab_type": "code",
        "colab": {}
      },
      "source": [
        "# contruindo uma tupla\n"
      ],
      "execution_count": null,
      "outputs": []
    }
  ]
}