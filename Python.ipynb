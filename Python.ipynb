{
  "nbformat": 4,
  "nbformat_minor": 0,
  "metadata": {
    "colab": {
      "name": "Python.ipynb",
      "provenance": [],
      "collapsed_sections": [
        "sr7NqmjIORO-",
        "yrFwvlFr0_2l",
        "XWTdKDgUYeY0",
        "hqdmVW6tiP2Z",
        "z6HJVSxZmv77",
        "Hsgk4AGNnDww",
        "MEooR5aLncYB",
        "rh9XFNik6vRK"
      ],
      "authorship_tag": "ABX9TyNhWpwYHOwmKSNWJfWCz8ke",
      "include_colab_link": true
    },
    "kernelspec": {
      "name": "python3",
      "display_name": "Python 3"
    }
  },
  "cells": [
    {
      "cell_type": "markdown",
      "metadata": {
        "id": "view-in-github",
        "colab_type": "text"
      },
      "source": [
        "<a href=\"https://colab.research.google.com/github/MaksonViini/Learning-Python/blob/master/Python.ipynb\" target=\"_parent\"><img src=\"https://colab.research.google.com/assets/colab-badge.svg\" alt=\"Open In Colab\"/></a>"
      ]
    },
    {
      "cell_type": "markdown",
      "metadata": {
        "id": "sr7NqmjIORO-",
        "colab_type": "text"
      },
      "source": [
        "### **Numeros**"
      ]
    },
    {
      "cell_type": "code",
      "metadata": {
        "id": "q0smt_BCOHF-",
        "colab_type": "code",
        "colab": {
          "base_uri": "https://localhost:8080/",
          "height": 34
        },
        "outputId": "dd5f8fa7-96b4-46ca-b5df-24e862cfd00f"
      },
      "source": [
        "# Convertendo de float para int\n",
        "x = 10.5\n",
        "x = int(x)\n",
        "print(type(x))"
      ],
      "execution_count": null,
      "outputs": [
        {
          "output_type": "stream",
          "text": [
            "<class 'int'>\n"
          ],
          "name": "stdout"
        }
      ]
    },
    {
      "cell_type": "code",
      "metadata": {
        "id": "2MQbu3cXOcHe",
        "colab_type": "code",
        "colab": {
          "base_uri": "https://localhost:8080/",
          "height": 67
        },
        "outputId": "04e25eee-110f-494f-ebf5-422a5d588c37"
      },
      "source": [
        "# Gerando um numero aleatorio entre um intervalo\n",
        "from random import randint, randrange\n",
        "num = randrange(0, 20)\n",
        "print(num)\n",
        "num1 = randint(0, 20)\n",
        "print(num1)\n",
        "lista = [randrange(0, 20),\n",
        "         randrange(0, 20),\n",
        "         randrange(0, 20),\n",
        "         randrange(0, 20)]\n",
        "print(lista)"
      ],
      "execution_count": null,
      "outputs": [
        {
          "output_type": "stream",
          "text": [
            "16\n",
            "0\n",
            "[7, 3, 14, 4]\n"
          ],
          "name": "stdout"
        }
      ]
    },
    {
      "cell_type": "markdown",
      "metadata": {
        "id": "yrFwvlFr0_2l",
        "colab_type": "text"
      },
      "source": [
        "###**String**\n"
      ]
    },
    {
      "cell_type": "code",
      "metadata": {
        "id": "WRzTs_eZ1Feq",
        "colab_type": "code",
        "colab": {
          "base_uri": "https://localhost:8080/",
          "height": 34
        },
        "outputId": "50ad99c1-3f8c-47fe-9be7-4daa688baba2"
      },
      "source": [
        "# Tipo\n",
        "type(\"String\")"
      ],
      "execution_count": null,
      "outputs": [
        {
          "output_type": "execute_result",
          "data": {
            "text/plain": [
              "str"
            ]
          },
          "metadata": {
            "tags": []
          },
          "execution_count": 25
        }
      ]
    },
    {
      "cell_type": "code",
      "metadata": {
        "id": "kORLwXng1KiA",
        "colab_type": "code",
        "colab": {
          "base_uri": "https://localhost:8080/",
          "height": 35
        },
        "outputId": "3f73401d-c232-4e86-9f88-54dce38cd1d1"
      },
      "source": [
        "# obter pedacoes de string usando []\n",
        "\"Coisa\"[0]\n",
        "\"Isso\"[:2]"
      ],
      "execution_count": null,
      "outputs": [
        {
          "output_type": "execute_result",
          "data": {
            "application/vnd.google.colaboratory.intrinsic+json": {
              "type": "string"
            },
            "text/plain": [
              "'Is'"
            ]
          },
          "metadata": {
            "tags": []
          },
          "execution_count": 26
        }
      ]
    },
    {
      "cell_type": "code",
      "metadata": {
        "id": "ekhtl4Xz1aMq",
        "colab_type": "code",
        "colab": {
          "base_uri": "https://localhost:8080/",
          "height": 102
        },
        "outputId": "b8e62ca2-2d62-428a-d769-3bcf6d58fac4"
      },
      "source": [
        "# Obtendo pedacos\n",
        "nome = \"    makson vinico\"\n",
        "print(nome.upper()) # Caixa alta\n",
        "print(nome.lower()) # Caixa baixa\n",
        "print(nome.split()) # Dividir as palavras apos delimitador\n",
        "print(nome.strip()) # Retirar os espacos no inicio e no fim\n",
        "\",\".join(\"abc\") # Inserindo virgula dentro das letras abc, saida igual a: a,b,c"
      ],
      "execution_count": null,
      "outputs": [
        {
          "output_type": "stream",
          "text": [
            "    MAKSON VINICO\n",
            "    makson vinico\n",
            "['makson', 'vinico']\n",
            "makson vinico\n"
          ],
          "name": "stdout"
        },
        {
          "output_type": "execute_result",
          "data": {
            "application/vnd.google.colaboratory.intrinsic+json": {
              "type": "string"
            },
            "text/plain": [
              "'a,b,c'"
            ]
          },
          "metadata": {
            "tags": []
          },
          "execution_count": 27
        }
      ]
    },
    {
      "cell_type": "code",
      "metadata": {
        "id": "48eOwKHqPzu1",
        "colab_type": "code",
        "colab": {
          "base_uri": "https://localhost:8080/",
          "height": 34
        },
        "outputId": "9a5027fe-8b56-48e6-e0f5-89cd041bf643"
      },
      "source": [
        "# Tamanho da string\n",
        "coisa = \"Vamos verificar o tamanho com espacos\"\n",
        "print(len(coisa))"
      ],
      "execution_count": null,
      "outputs": [
        {
          "output_type": "stream",
          "text": [
            "37\n"
          ],
          "name": "stdout"
        }
      ]
    },
    {
      "cell_type": "code",
      "metadata": {
        "id": "GyZiQiKHQMwE",
        "colab_type": "code",
        "colab": {
          "base_uri": "https://localhost:8080/",
          "height": 34
        },
        "outputId": "694d6bb3-dcdc-4b6b-df43-cd90065a7a16"
      },
      "source": [
        "# Substituicao\n",
        "print(coisa.replace(\"Vamos\", \"Going\"))"
      ],
      "execution_count": null,
      "outputs": [
        {
          "output_type": "stream",
          "text": [
            "Going verificar o tamanho com espacos\n"
          ],
          "name": "stdout"
        }
      ]
    },
    {
      "cell_type": "code",
      "metadata": {
        "id": "Nmu3HxwyRqMV",
        "colab_type": "code",
        "colab": {
          "base_uri": "https://localhost:8080/",
          "height": 50
        },
        "outputId": "4b80dc71-62bf-4cee-8e6a-7a89d81f8d70"
      },
      "source": [
        "# Split em todos os espacos\n",
        "print(coisa.split(\" \"))\n",
        "print(len(coisa.split(\" \"))) #Contando a quantidade de espacos"
      ],
      "execution_count": null,
      "outputs": [
        {
          "output_type": "stream",
          "text": [
            "['Vamos', 'verificar', 'o', 'tamanho', 'com', 'espacos']\n",
            "6\n"
          ],
          "name": "stdout"
        }
      ]
    },
    {
      "cell_type": "code",
      "metadata": {
        "id": "Mx4GMIjBSRjj",
        "colab_type": "code",
        "colab": {
          "base_uri": "https://localhost:8080/",
          "height": 50
        },
        "outputId": "a3260f37-2cdc-4b8a-d5a5-3cd6e8eeb599"
      },
      "source": [
        "# Verificar se uma palavra aparece em uma frase\n",
        "frase = \"Aprendendo Python\"\n",
        "print(\"Python\" in frase) # Verifica se Pytohn esta na frase\n",
        "print(\"Python\" not in frase) # Verifica se Python nao esta na frase"
      ],
      "execution_count": null,
      "outputs": [
        {
          "output_type": "stream",
          "text": [
            "True\n",
            "False\n"
          ],
          "name": "stdout"
        }
      ]
    },
    {
      "cell_type": "code",
      "metadata": {
        "id": "aLgy6eBqXhWq",
        "colab_type": "code",
        "colab": {
          "base_uri": "https://localhost:8080/",
          "height": 34
        },
        "outputId": "710fee3e-8ee7-4c93-91a9-b94fc60cd32a"
      },
      "source": [
        "# Concatenando variaveis / strings\n",
        "print(\"ISSO\" , \"aI\")"
      ],
      "execution_count": null,
      "outputs": [
        {
          "output_type": "stream",
          "text": [
            "ISSO aI\n"
          ],
          "name": "stdout"
        }
      ]
    },
    {
      "cell_type": "markdown",
      "metadata": {
        "id": "XWTdKDgUYeY0",
        "colab_type": "text"
      },
      "source": [
        "### **Tipo Boolean**\n"
      ]
    },
    {
      "cell_type": "code",
      "metadata": {
        "id": "bJw6lXkMYjYe",
        "colab_type": "code",
        "colab": {
          "base_uri": "https://localhost:8080/",
          "height": 34
        },
        "outputId": "26863655-5a65-4b45-a448-bfb44818a373"
      },
      "source": [
        "conteudo = False\n",
        "print(type(conteudo)) # Retorna o tipo bool"
      ],
      "execution_count": null,
      "outputs": [
        {
          "output_type": "stream",
          "text": [
            "<class 'bool'>\n"
          ],
          "name": "stdout"
        }
      ]
    },
    {
      "cell_type": "code",
      "metadata": {
        "id": "FR0rZNMQYtF2",
        "colab_type": "code",
        "colab": {
          "base_uri": "https://localhost:8080/",
          "height": 34
        },
        "outputId": "31071e06-897b-494e-e4fd-b1aa8ce22f3d"
      },
      "source": [
        "print(bool(\"dsdsdskdks\")) # Verdadeiro pois tem conteudo dentro"
      ],
      "execution_count": null,
      "outputs": [
        {
          "output_type": "stream",
          "text": [
            "True\n"
          ],
          "name": "stdout"
        }
      ]
    },
    {
      "cell_type": "markdown",
      "metadata": {
        "id": "hqdmVW6tiP2Z",
        "colab_type": "text"
      },
      "source": [
        "###**Lista**"
      ]
    },
    {
      "cell_type": "code",
      "metadata": {
        "id": "iFSIDGakiT8N",
        "colab_type": "code",
        "colab": {
          "base_uri": "https://localhost:8080/",
          "height": 50
        },
        "outputId": "37f5bbd3-1544-4162-9e7f-fd590284ff86"
      },
      "source": [
        "numeros = [1, 29, 43, 4, 15, 6]\n",
        "print(sorted(numeros)) # Organiza em ordem\n",
        "numeros.append(\"a\") # Adicionando um novo elemento a lista\n",
        "print(numeros)"
      ],
      "execution_count": null,
      "outputs": [
        {
          "output_type": "stream",
          "text": [
            "[1, 4, 6, 15, 29, 43]\n",
            "[1, 29, 43, 4, 15, 6, 'a']\n"
          ],
          "name": "stdout"
        }
      ]
    },
    {
      "cell_type": "code",
      "metadata": {
        "id": "kzBcmI8sjFG_",
        "colab_type": "code",
        "colab": {
          "base_uri": "https://localhost:8080/",
          "height": 50
        },
        "outputId": "07cd5f0f-5dbc-43e5-e99e-7b8364cbded1"
      },
      "source": [
        "carros = [\"Fusion\", \"Corola\", \"Gol\"]\n",
        "carros.remove(\"Gol\") # Metodo para remover um elemento\n",
        "print(carros)\n",
        "carros.reverse() # Inverte os elementos da lista\n",
        "print(carros)"
      ],
      "execution_count": null,
      "outputs": [
        {
          "output_type": "stream",
          "text": [
            "['Fusion', 'Corola']\n",
            "['Corola', 'Fusion']\n"
          ],
          "name": "stdout"
        }
      ]
    },
    {
      "cell_type": "code",
      "metadata": {
        "id": "gmgr0gVFj37H",
        "colab_type": "code",
        "colab": {
          "base_uri": "https://localhost:8080/",
          "height": 50
        },
        "outputId": "55f3e7bc-56cd-460d-be98-1c531d446a1f"
      },
      "source": [
        "carros = [\"Fusion\", \"Corola\", \"Gol\"]\n",
        "del carros[2] #Remove o carro do indice 2\n",
        "print(carros)\n",
        "carros.clear() # Remove todos os elementos da lista\n",
        "print(carros)"
      ],
      "execution_count": null,
      "outputs": [
        {
          "output_type": "stream",
          "text": [
            "['Fusion', 'Corola']\n",
            "[]\n"
          ],
          "name": "stdout"
        }
      ]
    },
    {
      "cell_type": "code",
      "metadata": {
        "id": "TIY-aVzAlFas",
        "colab_type": "code",
        "colab": {
          "base_uri": "https://localhost:8080/",
          "height": 50
        },
        "outputId": "028b4ce9-3856-4adc-bb0c-e69e455d0e04"
      },
      "source": [
        "carros = [\"Fusion\", \"Corola\", \"Gol\"]\n",
        "carros2 = []\n",
        "carros2 = list(carros) # Copiando toda uma lista para outra\n",
        "print(carros)\n",
        "print(carros2)"
      ],
      "execution_count": null,
      "outputs": [
        {
          "output_type": "stream",
          "text": [
            "['Fusion', 'Corola', 'Gol']\n",
            "['Fusion', 'Corola', 'Gol']\n"
          ],
          "name": "stdout"
        }
      ]
    },
    {
      "cell_type": "code",
      "metadata": {
        "id": "EZayK80-luub",
        "colab_type": "code",
        "colab": {
          "base_uri": "https://localhost:8080/",
          "height": 50
        },
        "outputId": "64dd0af4-6392-4b24-824d-b9b02b78ff7d"
      },
      "source": [
        "carros = [\"Fusion\", \"Corola\", \"Gol\"]\n",
        "carros2 = [\"Celta\", \"Uno\"]\n",
        "carros3 = carros + carros2 # Concatenar uma lista\n",
        "print(carros3)\n",
        "print(sorted(carros3)) # Ordenando a lista"
      ],
      "execution_count": null,
      "outputs": [
        {
          "output_type": "stream",
          "text": [
            "['Fusion', 'Corola', 'Gol', 'Celta', 'Uno']\n",
            "['Celta', 'Corola', 'Fusion', 'Gol', 'Uno']\n"
          ],
          "name": "stdout"
        }
      ]
    },
    {
      "cell_type": "markdown",
      "metadata": {
        "id": "z6HJVSxZmv77",
        "colab_type": "text"
      },
      "source": [
        "###**Condicionais**"
      ]
    },
    {
      "cell_type": "code",
      "metadata": {
        "id": "wnQk9KQXm4k2",
        "colab_type": "code",
        "colab": {
          "base_uri": "https://localhost:8080/",
          "height": 34
        },
        "outputId": "97037df2-331a-4cde-8897-2560c4ab9b16"
      },
      "source": [
        "if 10 > 5: # Condicional 'SE'\n",
        "  print(f\"{10} e maior que {5} \") # Se 10 e maior que 5, entra aqui\n",
        "else: # Se nao\n",
        "  print(f\"{10} e menor que {5} \") # Entra aqui"
      ],
      "execution_count": null,
      "outputs": [
        {
          "output_type": "stream",
          "text": [
            "10 e maior que 5 \n"
          ],
          "name": "stdout"
        }
      ]
    },
    {
      "cell_type": "code",
      "metadata": {
        "id": "3CzpSH4wp6oZ",
        "colab_type": "code",
        "colab": {
          "base_uri": "https://localhost:8080/",
          "height": 34
        },
        "outputId": "6916389b-ec05-462a-e436-23d74b4cc108"
      },
      "source": [
        "num = 10\n",
        "if num % 2 == 0: # Verifica se o num e PAR, se nao, ele e IMPAR\n",
        "  print(f\"{num} e PAR \")\n",
        "else:\n",
        "  print(f\"{num} e IMPAR \")"
      ],
      "execution_count": null,
      "outputs": [
        {
          "output_type": "stream",
          "text": [
            "10 e PAR \n"
          ],
          "name": "stdout"
        }
      ]
    },
    {
      "cell_type": "code",
      "metadata": {
        "id": "p1IikLqaqQEJ",
        "colab_type": "code",
        "colab": {
          "base_uri": "https://localhost:8080/",
          "height": 34
        },
        "outputId": "07bd4a31-3029-4e78-a81c-a7098477c50b"
      },
      "source": [
        "num = [] # Declara uma lista\n",
        "if 10 > 11: # Como 10 nao e maior que 11, nao efetua a impressao\n",
        "  print(num)\n",
        "else: # Se nao\n",
        "  num.append(10) # Adiciona 10 a lista vazia\n",
        "print(num) # Imprime a lista com o numero 10"
      ],
      "execution_count": null,
      "outputs": [
        {
          "output_type": "stream",
          "text": [
            "[10]\n"
          ],
          "name": "stdout"
        }
      ]
    },
    {
      "cell_type": "code",
      "metadata": {
        "id": "p5vGHcXqq_vm",
        "colab_type": "code",
        "colab": {
          "base_uri": "https://localhost:8080/",
          "height": 34
        },
        "outputId": "4addfac0-3844-4e9a-a562-c34e06f57745"
      },
      "source": [
        "# CALCULADORA BASICA\n",
        "num = 10\n",
        "num2 = 2\n",
        "op = '/'\n",
        "if op == '*': # Verifica se op e igual a *, para multiplicacao\n",
        "  print(num * num2)\n",
        "elif op == '+': # Funciona como um else if e verifica se op e igual a +, para soma\n",
        "  print(num + num2)\n",
        "elif op == '-': #Verifica se op e igual a -, para subtracao\n",
        "  print(num - num2)\n",
        "elif op == '/': # Verifica se op e igual a /, para divisao\n",
        "  print(num / num2)"
      ],
      "execution_count": null,
      "outputs": [
        {
          "output_type": "stream",
          "text": [
            "5.0\n"
          ],
          "name": "stdout"
        }
      ]
    },
    {
      "cell_type": "markdown",
      "metadata": {
        "id": "Hsgk4AGNnDww",
        "colab_type": "text"
      },
      "source": [
        "###**Loop**"
      ]
    },
    {
      "cell_type": "code",
      "metadata": {
        "id": "XL8QZHsznHVh",
        "colab_type": "code",
        "colab": {
          "base_uri": "https://localhost:8080/",
          "height": 34
        },
        "outputId": "d57baa3d-1471-437e-9ec4-c4d8d335b9d0"
      },
      "source": [
        "carros = [\"Corsa\", \"Golf\", \"Gol\", \"Corola\"]\n",
        "for i in carros: # Percorre cada elemento da lista\n",
        "  print(i , end=\" \") # printa os elementos em ordem saltando um espaco a cada um deles"
      ],
      "execution_count": null,
      "outputs": [
        {
          "output_type": "stream",
          "text": [
            "Corsa Golf Gol Corola "
          ],
          "name": "stdout"
        }
      ]
    },
    {
      "cell_type": "code",
      "metadata": {
        "id": "QJDyxGsiqzMA",
        "colab_type": "code",
        "colab": {
          "base_uri": "https://localhost:8080/",
          "height": 185
        },
        "outputId": "295b091b-fda2-464a-9f57-1249857b75b1"
      },
      "source": [
        "for i in range(0, 10): # Vai de 0 a 9\n",
        "  print(i)"
      ],
      "execution_count": null,
      "outputs": [
        {
          "output_type": "stream",
          "text": [
            "0\n",
            "1\n",
            "2\n",
            "3\n",
            "4\n",
            "5\n",
            "6\n",
            "7\n",
            "8\n",
            "9\n"
          ],
          "name": "stdout"
        }
      ]
    },
    {
      "cell_type": "code",
      "metadata": {
        "id": "IITFIS8lxgLJ",
        "colab_type": "code",
        "colab": {
          "base_uri": "https://localhost:8080/",
          "height": 134
        },
        "outputId": "1a18e09e-3494-4f24-9ec7-fae142e519ce"
      },
      "source": [
        "for letra in \"Makson\":\n",
        "  print(letra) # Percorre a string Makson\n",
        "else: # For no python tem ELSE\n",
        "  print(\"Vi\")"
      ],
      "execution_count": null,
      "outputs": [
        {
          "output_type": "stream",
          "text": [
            "M\n",
            "a\n",
            "k\n",
            "s\n",
            "o\n",
            "n\n",
            "Vi\n"
          ],
          "name": "stdout"
        }
      ]
    },
    {
      "cell_type": "code",
      "metadata": {
        "id": "GtVINdqExgFJ",
        "colab_type": "code",
        "colab": {
          "base_uri": "https://localhost:8080/",
          "height": 185
        },
        "outputId": "3030245e-c046-452c-b521-9b9a1bf5c63c"
      },
      "source": [
        "i = 0\n",
        "while i < 10:\n",
        "  print(i)\n",
        "  i += 1"
      ],
      "execution_count": null,
      "outputs": [
        {
          "output_type": "stream",
          "text": [
            "0\n",
            "1\n",
            "2\n",
            "3\n",
            "4\n",
            "5\n",
            "6\n",
            "7\n",
            "8\n",
            "9\n"
          ],
          "name": "stdout"
        }
      ]
    },
    {
      "cell_type": "code",
      "metadata": {
        "id": "TPTIAV9Hxf-Q",
        "colab_type": "code",
        "colab": {
          "base_uri": "https://localhost:8080/",
          "height": 34
        },
        "outputId": "280b240f-d263-40d3-a74d-4b3dac4336fb"
      },
      "source": [
        "lista = [\"Nome\", \"Carro\", 11, 13, 18] # Declara uma lista\n",
        "tamanho = len(lista) # Pega o tamanho da lista\n",
        "i = 0\n",
        "while i < tamanho: # Verifica enquanto tamanho for maior que i\n",
        "  print(lista[i], end=\" \") # Mostra cara indice da lista\n",
        "  i += 1 # Acresta um para posteriormente ser a condicao de parada"
      ],
      "execution_count": null,
      "outputs": [
        {
          "output_type": "stream",
          "text": [
            "Nome Carro 11 13 18 "
          ],
          "name": "stdout"
        }
      ]
    },
    {
      "cell_type": "markdown",
      "metadata": {
        "id": "MEooR5aLncYB",
        "colab_type": "text"
      },
      "source": [
        "###**Matrizes**\n"
      ]
    },
    {
      "cell_type": "code",
      "metadata": {
        "id": "Hn-4Kdv6ngYQ",
        "colab_type": "code",
        "colab": {
          "base_uri": "https://localhost:8080/",
          "height": 84
        },
        "outputId": "c7d1c425-49de-4edd-e37d-51b27ed62284"
      },
      "source": [
        "l = [1, 2, 3, 4] # Array\n",
        "matriz = [[1, 4], # Matriz, a matriz e formada por arrays encadeados\n",
        "          [2, 6], \n",
        "          [3, 9]]\n",
        "print(f\"O indice i = 1 e j = 1 e? {matriz[1][1]}\")          \n",
        "for i in matriz:\n",
        "  print(i)      "
      ],
      "execution_count": null,
      "outputs": [
        {
          "output_type": "stream",
          "text": [
            "O indice i = 1 e j = 1 e? 6\n",
            "[1, 4]\n",
            "[2, 6]\n",
            "[3, 9]\n"
          ],
          "name": "stdout"
        }
      ]
    },
    {
      "cell_type": "markdown",
      "metadata": {
        "id": "rh9XFNik6vRK",
        "colab_type": "text"
      },
      "source": [
        "###**Tuplas**\n"
      ]
    },
    {
      "cell_type": "code",
      "metadata": {
        "id": "QTHNWryb62GH",
        "colab_type": "code",
        "colab": {}
      },
      "source": [
        "# contruindo uma tupla\n",
        "num = tuple([1, 2, 3]) # Tuplas sao imutaveis"
      ],
      "execution_count": null,
      "outputs": []
    },
    {
      "cell_type": "code",
      "metadata": {
        "id": "NhYY712ZAXj1",
        "colab_type": "code",
        "colab": {
          "base_uri": "https://localhost:8080/",
          "height": 162
        },
        "outputId": "a3ee43fb-e913-49c1-a0ea-2864cbb772f0"
      },
      "source": [
        "num[0] = 9 #Tupla e imutavel, nao da para modificar valores ja definidos"
      ],
      "execution_count": null,
      "outputs": [
        {
          "output_type": "error",
          "ename": "TypeError",
          "evalue": "ignored",
          "traceback": [
            "\u001b[0;31m---------------------------------------------------------------------------\u001b[0m",
            "\u001b[0;31mTypeError\u001b[0m                                 Traceback (most recent call last)",
            "\u001b[0;32m<ipython-input-55-ae19c03c6a92>\u001b[0m in \u001b[0;36m<module>\u001b[0;34m()\u001b[0m\n\u001b[0;32m----> 1\u001b[0;31m \u001b[0mnum\u001b[0m\u001b[0;34m[\u001b[0m\u001b[0;36m0\u001b[0m\u001b[0;34m]\u001b[0m \u001b[0;34m=\u001b[0m \u001b[0;36m9\u001b[0m\u001b[0;34m\u001b[0m\u001b[0;34m\u001b[0m\u001b[0m\n\u001b[0m",
            "\u001b[0;31mTypeError\u001b[0m: 'tuple' object does not support item assignment"
          ]
        }
      ]
    },
    {
      "cell_type": "code",
      "metadata": {
        "id": "_s1B4L4TAXhH",
        "colab_type": "code",
        "colab": {
          "base_uri": "https://localhost:8080/",
          "height": 34
        },
        "outputId": "e37a85e5-0be2-4c1b-8041-9ef97c283291"
      },
      "source": [
        "type(num)"
      ],
      "execution_count": null,
      "outputs": [
        {
          "output_type": "execute_result",
          "data": {
            "text/plain": [
              "tuple"
            ]
          },
          "metadata": {
            "tags": []
          },
          "execution_count": 56
        }
      ]
    },
    {
      "cell_type": "code",
      "metadata": {
        "id": "RX6tlwWXAXeJ",
        "colab_type": "code",
        "colab": {
          "base_uri": "https://localhost:8080/",
          "height": 34
        },
        "outputId": "5ff404f9-c1e3-4f12-c5d8-e077c30fbe96"
      },
      "source": [
        "print(num[0])"
      ],
      "execution_count": null,
      "outputs": [
        {
          "output_type": "stream",
          "text": [
            "1\n"
          ],
          "name": "stdout"
        }
      ]
    },
    {
      "cell_type": "code",
      "metadata": {
        "id": "esGgUXWtAXZv",
        "colab_type": "code",
        "colab": {}
      },
      "source": [
        "x = (5, 'abacaxi', 55.00) #Pode conter qualquer lista de dados, pode tambem conter listas, dicionarios e etc"
      ],
      "execution_count": null,
      "outputs": []
    },
    {
      "cell_type": "code",
      "metadata": {
        "id": "97bKaJgAAXKg",
        "colab_type": "code",
        "colab": {
          "base_uri": "https://localhost:8080/",
          "height": 34
        },
        "outputId": "1d565935-d90a-4259-8868-07432164dd95"
      },
      "source": [
        "print(type(x))"
      ],
      "execution_count": null,
      "outputs": [
        {
          "output_type": "stream",
          "text": [
            "<class 'tuple'>\n"
          ],
          "name": "stdout"
        }
      ]
    },
    {
      "cell_type": "code",
      "metadata": {
        "id": "1N6_CLL96nj2",
        "colab_type": "code",
        "colab": {
          "base_uri": "https://localhost:8080/",
          "height": 50
        },
        "outputId": "2bf8e99b-7d73-4653-ba25-87bd3815418d"
      },
      "source": [
        "x, y = (\"Makson\", \"Vinicio\")\n",
        "print(x)\n",
        "print(y)"
      ],
      "execution_count": null,
      "outputs": [
        {
          "output_type": "stream",
          "text": [
            "Makson\n",
            "Vinicio\n"
          ],
          "name": "stdout"
        }
      ]
    },
    {
      "cell_type": "markdown",
      "metadata": {
        "id": "MYK50UD1DB5G",
        "colab_type": "text"
      },
      "source": [
        "###**Dicionarios**"
      ]
    },
    {
      "cell_type": "code",
      "metadata": {
        "id": "mU71DgJRDIf8",
        "colab_type": "code",
        "colab": {
          "base_uri": "https://localhost:8080/",
          "height": 34
        },
        "outputId": "5769ac78-4b66-4387-d2c0-135703e87108"
      },
      "source": [
        "# Dicionarios usa o conceito de Chave : Valor\n",
        "x = {\"Key\":\"Value\", \n",
        "     \"Teste\":\"1\", \n",
        "     \"Carro\":\"Ronda\"}\n",
        "print(x)"
      ],
      "execution_count": null,
      "outputs": [
        {
          "output_type": "stream",
          "text": [
            "{'Key': 'Value', 'Teste': '1', 'Carro': 'Ronda'}\n"
          ],
          "name": "stdout"
        }
      ]
    },
    {
      "cell_type": "code",
      "metadata": {
        "id": "QUhfEOUCr0Ao",
        "colab_type": "code",
        "colab": {
          "base_uri": "https://localhost:8080/",
          "height": 34
        },
        "outputId": "c9519272-4d47-4098-d3e7-021e68050358"
      },
      "source": [
        "carro = {\"Marca\":\"Toyota\", \n",
        "         \"Modelo\":\"Corolla\", \n",
        "         \"Ano\":\"2018\", \n",
        "         \"Cor\":\"Preto\"\n",
        "         }\n",
        "print(carro[\"Marca\"]) # Apontando para a chave, para retornar o valor"
      ],
      "execution_count": null,
      "outputs": [
        {
          "output_type": "stream",
          "text": [
            "Toyota\n"
          ],
          "name": "stdout"
        }
      ]
    },
    {
      "cell_type": "code",
      "metadata": {
        "id": "nCqSzLR_3Yl-",
        "colab_type": "code",
        "colab": {
          "base_uri": "https://localhost:8080/",
          "height": 84
        },
        "outputId": "70a15516-c65f-45b4-b07b-cb2523b35b05"
      },
      "source": [
        "for i in carro:\n",
        "  print(i, \":\", carro[i])"
      ],
      "execution_count": null,
      "outputs": [
        {
          "output_type": "stream",
          "text": [
            "Marca : Toyota\n",
            "Modelo : Corolla\n",
            "Ano : 2018\n",
            "Cor : Preto\n"
          ],
          "name": "stdout"
        }
      ]
    },
    {
      "cell_type": "code",
      "metadata": {
        "id": "g27MbNVC4oV9",
        "colab_type": "code",
        "colab": {
          "base_uri": "https://localhost:8080/",
          "height": 34
        },
        "outputId": "83716dae-d660-4d52-e7b8-1bcf7894d858"
      },
      "source": [
        "print(len(carro)) # 4 conjuntos chave valor"
      ],
      "execution_count": null,
      "outputs": [
        {
          "output_type": "stream",
          "text": [
            "4\n"
          ],
          "name": "stdout"
        }
      ]
    },
    {
      "cell_type": "code",
      "metadata": {
        "id": "HQSdeEtz42YM",
        "colab_type": "code",
        "colab": {
          "base_uri": "https://localhost:8080/",
          "height": 34
        },
        "outputId": "c3ef924a-50ff-4ad2-d356-6f1632af06fb"
      },
      "source": [
        "carro[\"Cidade\"] = \"BH\" # Inclue uma nova chave/valor\n",
        "print(carro)"
      ],
      "execution_count": null,
      "outputs": [
        {
          "output_type": "stream",
          "text": [
            "{'Marca': 'Toyota', 'Modelo': 'Corolla', 'Ano': '2018', 'Cor': 'Preto', 'Cidade': 'BH'}\n"
          ],
          "name": "stdout"
        }
      ]
    },
    {
      "cell_type": "code",
      "metadata": {
        "id": "B-4H862O5NKL",
        "colab_type": "code",
        "colab": {
          "base_uri": "https://localhost:8080/",
          "height": 35
        },
        "outputId": "bf6354c3-3fae-434e-ff43-b89436dd2e49"
      },
      "source": [
        "carro.pop(\"Cidade\") # Remove uma chave"
      ],
      "execution_count": null,
      "outputs": [
        {
          "output_type": "execute_result",
          "data": {
            "application/vnd.google.colaboratory.intrinsic+json": {
              "type": "string"
            },
            "text/plain": [
              "'BH'"
            ]
          },
          "metadata": {
            "tags": []
          },
          "execution_count": 34
        }
      ]
    },
    {
      "cell_type": "code",
      "metadata": {
        "id": "XYJ6RnwH5Q5G",
        "colab_type": "code",
        "colab": {
          "base_uri": "https://localhost:8080/",
          "height": 34
        },
        "outputId": "d2cf223b-47ce-4dee-9851-fff85e9a2cae"
      },
      "source": [
        "carro"
      ],
      "execution_count": null,
      "outputs": [
        {
          "output_type": "execute_result",
          "data": {
            "text/plain": [
              "{'Ano': '2018', 'Cor': 'Preto', 'Marca': 'Toyota', 'Modelo': 'Corolla'}"
            ]
          },
          "metadata": {
            "tags": []
          },
          "execution_count": 35
        }
      ]
    },
    {
      "cell_type": "code",
      "metadata": {
        "id": "yRG-YfPO8KcN",
        "colab_type": "code",
        "colab": {
          "base_uri": "https://localhost:8080/",
          "height": 34
        },
        "outputId": "1aa2e440-4fd4-457b-bcdd-8a0179e95535"
      },
      "source": [
        "carro.clear() # Limpar o dicionario\n",
        "print(carro)"
      ],
      "execution_count": null,
      "outputs": [
        {
          "output_type": "stream",
          "text": [
            "{}\n"
          ],
          "name": "stdout"
        }
      ]
    },
    {
      "cell_type": "code",
      "metadata": {
        "id": "jpEtuLCz8Yub",
        "colab_type": "code",
        "colab": {}
      },
      "source": [
        "carros = {\"Carro1\":{\"Modelo\":\"Corola\"},\n",
        "         \"Carro2\":{\"Modelo\":\"Gol\"},\n",
        "         \"Carro3\":{\"Modelo\":\"Focus\"}}   "
      ],
      "execution_count": null,
      "outputs": []
    },
    {
      "cell_type": "code",
      "metadata": {
        "id": "9YL8GjDR8hcj",
        "colab_type": "code",
        "colab": {
          "base_uri": "https://localhost:8080/",
          "height": 34
        },
        "outputId": "1cb339d9-7d3c-418b-bf0d-656776dcb36f"
      },
      "source": [
        "print(carros)"
      ],
      "execution_count": null,
      "outputs": [
        {
          "output_type": "stream",
          "text": [
            "{'Carro1': {'Modelo': 'Corola'}, 'Carro2': {'Modelo': 'Gol'}, 'Carro3': {'Modelo': 'Focus'}}\n"
          ],
          "name": "stdout"
        }
      ]
    },
    {
      "cell_type": "code",
      "metadata": {
        "id": "YI6Iwl-wN7iG",
        "colab_type": "code",
        "colab": {
          "base_uri": "https://localhost:8080/",
          "height": 34
        },
        "outputId": "ae5d4ef6-4a95-455e-fa5c-0abe99f55539"
      },
      "source": [
        "print(carros[\"Carro1\"][\"Modelo\"]) # Pega a chave carro1, e a chave modelo"
      ],
      "execution_count": 41,
      "outputs": [
        {
          "output_type": "stream",
          "text": [
            "Corola\n"
          ],
          "name": "stdout"
        }
      ]
    },
    {
      "cell_type": "code",
      "metadata": {
        "id": "-clxa70JOOTH",
        "colab_type": "code",
        "colab": {}
      },
      "source": [
        "Carro1 = {\"Modelo\":\"Corola\"}\n",
        "Carro2 = {\"Modelo\":\"Gol\"},\n",
        "Carro3 = {\"Modelo\":\"Focus\"}"
      ],
      "execution_count": 43,
      "outputs": []
    },
    {
      "cell_type": "code",
      "metadata": {
        "id": "ZV5tg79uOZMV",
        "colab_type": "code",
        "colab": {
          "base_uri": "https://localhost:8080/",
          "height": 34
        },
        "outputId": "95e353d8-85ef-4d23-b26a-b729a8fd835d"
      },
      "source": [
        "carros = {\"C1\":Carro1, \n",
        "          \"C2\":Carro2, \n",
        "          \"C3\":Carro3\n",
        "          }\n",
        "print(carros)"
      ],
      "execution_count": 44,
      "outputs": [
        {
          "output_type": "stream",
          "text": [
            "{'C1': {'Modelo': 'Corola'}, 'C2': ({'Modelo': 'Gol'},), 'C3': {'Modelo': 'Focus'}}\n"
          ],
          "name": "stdout"
        }
      ]
    },
    {
      "cell_type": "code",
      "metadata": {
        "id": "mwu-qwQbOtSg",
        "colab_type": "code",
        "colab": {
          "base_uri": "https://localhost:8080/",
          "height": 34
        },
        "outputId": "9c8eb22a-a3ed-4386-f3a2-a51aab82632b"
      },
      "source": [
        "print(carros[\"C1\"])"
      ],
      "execution_count": 47,
      "outputs": [
        {
          "output_type": "stream",
          "text": [
            "{'Modelo': 'Corola'}\n"
          ],
          "name": "stdout"
        }
      ]
    }
  ]
}